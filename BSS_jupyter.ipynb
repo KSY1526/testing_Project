{
 "cells": [
  {
   "cell_type": "code",
   "execution_count": null,
   "metadata": {},
   "outputs": [],
   "source": [
    "# 아 뭔가 잘못해서 날아감"
   ]
  }
 ],
 "metadata": {
  "kernelspec": {
   "display_name": "Python 3.9.13 ('ml')",
   "language": "python",
   "name": "python3"
  },
  "language_info": {
   "name": "python",
   "version": "3.9.13"
  },
  "orig_nbformat": 4,
  "vscode": {
   "interpreter": {
    "hash": "250dfb95db6c3943e5265c7173d3e4425ce728db39772e1581ac4973454354e3"
   }
  }
 },
 "nbformat": 4,
 "nbformat_minor": 2
}
